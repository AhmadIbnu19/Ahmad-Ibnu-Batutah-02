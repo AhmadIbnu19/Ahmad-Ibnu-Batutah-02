{
  "nbformat": 4,
  "nbformat_minor": 0,
  "metadata": {
    "colab": {
      "provenance": []
    },
    "kernelspec": {
      "name": "python3",
      "display_name": "Python 3"
    },
    "language_info": {
      "name": "python"
    }
  },
  "cells": [
    {
      "cell_type": "code",
      "source": [
        "#Laprak Algo 02\n",
        "latit1 = float(input(\"Masukkan latitude jakarta: \"))\n",
        "longi1 = float(input(\"Masukkan longitude jakarta: \"))\n",
        "latit2 = float(input(\"Masukkan latitude surabaya: \"))\n",
        "longi2 = float(input(\"Masukkan longitude surabaya: \"))\n",
        "\n",
        "def haversine(latit1, longi1, latit2, longi2):\n",
        "  lat1 = math.radians(latit1)\n",
        "  lon1 = math.radians(longi1)\n",
        "  lat2 = math.radians(latit2)\n",
        "  lon2 = math.radians(longi2)\n",
        "\n",
        "  R = 6371.0\n",
        "  dlat = lat2 - lat1\n",
        "  dlon = lon2 - lon1\n",
        "  a = math.sin(dlat / 2)**2 + math.cos(lat1) * math.cos(lat2) * math.sin(dlon / 2)**2\n",
        "  c = 2 * math.atan2(math.sqrt(a), math.sqrt(1 - a))\n",
        "  distance = R * c\n",
        "  return distance\n",
        "\n",
        "jarak = haversine(lat1, lon1, lat2, lon2)\n",
        "print(f\"Jarak antara jakarta dan surabaya adalah: {jarak} km\")\n",
        "\n",
        "\n",
        "#latitude jakarta = -6.200000\n",
        "#longitude jakarta = 106.816666\n",
        "#latitude surabaya = -7.250445\n",
        "#longitude surabaya = 112.768845"
      ],
      "metadata": {
        "colab": {
          "base_uri": "https://localhost:8080/"
        },
        "id": "VeSUzr4t3W6r",
        "outputId": "7c860940-ed75-4ac8-8030-f0a034b96c49"
      },
      "execution_count": 25,
      "outputs": [
        {
          "output_type": "stream",
          "name": "stdout",
          "text": [
            "Masukkan latitude jakarta: -6.200000\n",
            "Masukkan longitude jakarta: 106.816666\n",
            "Masukkan latitude surabaya: -7.250445\n",
            "Masukkan longitude surabaya: 112.768845\n",
            "Jarak antara jakarta dan surabaya adalah: 16837.796867638666 km\n"
          ]
        }
      ]
    }
  ]
}